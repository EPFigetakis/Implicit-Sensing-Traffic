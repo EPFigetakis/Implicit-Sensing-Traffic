{
 "cells": [
  {
   "cell_type": "markdown",
   "metadata": {},
   "source": [
    "# RL SUMO Implementation\n",
    "## By: Emanuel Figetakis "
   ]
  },
  {
   "cell_type": "code",
   "execution_count": 1,
   "metadata": {},
   "outputs": [],
   "source": [
    "import os \n",
    "import sys \n",
    "import optparse\n",
    "import random\n",
    "import time"
   ]
  },
  {
   "cell_type": "markdown",
   "metadata": {},
   "source": [
    "> SUMO should be installed it:\n",
    ">\n",
    "> Ubuntu: ```sudo apt-get install sumo sumo-tools sumo-doc -y```\n",
    ">\n",
    "> Restart after installing\n"
   ]
  },
  {
   "cell_type": "code",
   "execution_count": 2,
   "metadata": {},
   "outputs": [],
   "source": [
    "if 'SUMO_HOME' in os.environ:\n",
    "    tools = os.path.join(os.environ['SUMO_HOME'], 'tools')\n",
    "    sys.path.append(tools)\n",
    "else:\n",
    "    sys.exit(\"ENV ERROR\")"
   ]
  },
  {
   "cell_type": "code",
   "execution_count": 3,
   "metadata": {},
   "outputs": [],
   "source": [
    "from sumolib import checkBinary\n",
    "import traci"
   ]
  },
  {
   "cell_type": "code",
   "execution_count": 4,
   "metadata": {},
   "outputs": [],
   "source": [
    "def run(x):\n",
    "    #sumoBinary = checkBinary('sumo-gui')\n",
    "    traci.start([sumoBinary, '-c', 'highway.sumocfg',\"--tripinfo-output\", \"tripinfo.xml\", \"-S\", \"--quit-on-end\"]);\n",
    "    step = 0\n",
    "    x1 = x[0]\n",
    "    y1 = x[1]\n",
    "    dectstring = \"det_\" + str(x1) + \"_\" + str(y1)\n",
    "    lanenum = \"E\" + str(x1)\n",
    "    lanes=[0,1,2]\n",
    "    lanes.remove(x1)\n",
    "    laneoption1 = lanes[0]\n",
    "    laneoption2 = lanes[1]\n",
    "    while traci.simulation.getMinExpectedNumber() > 0:\n",
    "        time.sleep(.005) ######### <------ Here you can adjust the Playback speed (helpful to lower for more iterations)\n",
    "        traci.simulationStep()\n",
    "        #print(step)\n",
    "        det_vehs3 = traci.inductionloop.getLastStepVehicleIDs(\"det_4\") ##ROADBLOCK\n",
    "        det_vehs2 = traci.inductionloop.getLastStepVehicleIDs(dectstring) ###Decide to Move Lanes here \n",
    "        for V in det_vehs2: ### Run a Loop to change lanes \n",
    "            can_Merge = traci.vehicle.couldChangeLane(V,10)\n",
    "            if can_Merge == True :\n",
    "                try:\n",
    "                    traci.vehicle.changeLane(V,laneoption1,25)\n",
    "                    #print('C',V,laneoption1)\n",
    "                except traci.exceptions.TraCIException:\n",
    "                    traci.vehicle.changeLane(V,laneoption2,25)\n",
    "                    #print('C',V,laneoption2)\n",
    "            elif can_Merge == False:\n",
    "                traci.vehicle.setStop(V,'E0',duration=1,startPos=280,pos=289,until=1)\n",
    "                #print('Slowed')\n",
    "                try:\n",
    "                    traci.vehicle.changeLane(V,laneoption1,25)\n",
    "                    #print('C',V,laneoption1)\n",
    "                except traci.exceptions.TraCIException:\n",
    "                    traci.vehicle.changeLane(V,laneoption2,25)\n",
    "                    #print('C',V,laneoption2)\n",
    "            #print(V,\"Tried Merging \",traci.vehicle.couldChangeLane(V,10)) ###Results True/False if the Car can Change lanes\n",
    "            #print(\"Change_Lane\",traci.vehicle.changeLane(V,0,25)) ### Results if car can change lane \n",
    "        for vehs in det_vehs3:\n",
    "            #print(vehs)\n",
    "            try:\n",
    "                traci.vehicle.setStop(vehs,'E0',duration=1,startPos=280,pos=289,until=1)\n",
    "                traci.vehicle.changeLane(vehs, 2, 25)\n",
    "            except traci.exceptions.TraCIException:\n",
    "                print(\"VERY BAD\")\n",
    "        step += 1\n",
    "        #print(\"Traci Expected Number\", traci.simulation.getMinExpectedNumber())\n",
    "        #print(\"Step\",step)\n",
    "    traci.close()\n",
    "    sys.stdout.flush()"
   ]
  },
  {
   "cell_type": "code",
   "execution_count": 5,
   "metadata": {},
   "outputs": [],
   "source": [
    "def runstandard():\n",
    "    while traci.simulation.getMinExpectedNumber() > 0:\n",
    "        traci.simulationStep()\n",
    "    traci.close()\n",
    "    sys.stdout.flush()"
   ]
  },
  {
   "cell_type": "code",
   "execution_count": 6,
   "metadata": {},
   "outputs": [
    {
     "name": "stdout",
     "output_type": "stream",
     "text": [
      " Retrying in 1 seconds\n",
      "Step #183.00 (0ms ?*RT. ?UPS, TraCI: 0ms, vehicles TOT 25 ACT 0 BUF 0)                    \n"
     ]
    }
   ],
   "source": [
    "#To pass unit tests the sumo without GUI needed to be used.\n",
    "#If you want the visual screen change sumoBinary to sumo-gui\n",
    "\n",
    "\n",
    "\n",
    "#sumoBinary = checkBinary('sumo-gui')\n",
    "sumoBinary = checkBinary('sumo')\n",
    "run((1,5))  #######(You can decide here at which point you would like the agents to move lanes)"
   ]
  },
  {
   "cell_type": "code",
   "execution_count": 7,
   "metadata": {},
   "outputs": [
    {
     "name": "stdout",
     "output_type": "stream",
     "text": [
      "AVG Speed 2.106666666666667\n"
     ]
    }
   ],
   "source": [
    "from PTS_Int import docparse\n",
    "x = docparse.getresults()\n",
    "print(\"AVG Speed\",x)"
   ]
  },
  {
   "cell_type": "code",
   "execution_count": 8,
   "metadata": {},
   "outputs": [
    {
     "name": "stderr",
     "output_type": "stream",
     "text": [
      "/home/manoli/Implicit-Sensing-Traffic/.venv/lib/python3.7/site-packages/gym/spaces/box.py:127: UserWarning: \u001b[33mWARN: Box bound precision lowered by casting to float32\u001b[0m\n",
      "  logger.warn(f\"Box bound precision lowered by casting to {self.dtype}\")\n"
     ]
    }
   ],
   "source": [
    "import gym_env\n",
    "\n",
    "env = gym_env.TrafficEnv1()"
   ]
  },
  {
   "cell_type": "code",
   "execution_count": 9,
   "metadata": {},
   "outputs": [
    {
     "name": "stdout",
     "output_type": "stream",
     "text": [
      "(1,) 12\n"
     ]
    }
   ],
   "source": [
    "env.observation_space.sample()\n",
    "states = env.observation_space.shape\n",
    "action = env.action_space.n\n",
    "print(states,action)"
   ]
  },
  {
   "cell_type": "code",
   "execution_count": 10,
   "metadata": {},
   "outputs": [
    {
     "name": "stdout",
     "output_type": "stream",
     "text": [
      " Retrying in 1 seconds\n",
      "Step #218.00 (0ms ?*RT. ?UPS, TraCI: 0ms, vehicles TOT 25 ACT 0 BUF 0)                    \n",
      " Retrying in 1 seconds\n",
      "Step #183.00 (0ms ?*RT. ?UPS, TraCI: 0ms, vehicles TOT 25 ACT 0 BUF 0)                    \n",
      " Retrying in 1 seconds\n",
      "Step #212.00 (0ms ?*RT. ?UPS, TraCI: 0ms, vehicles TOT 25 ACT 0 BUF 0)                    \n",
      " Retrying in 1 seconds\n",
      "Step #183.00 (0ms ?*RT. ?UPS, TraCI: 1ms, vehicles TOT 25 ACT 0 BUF 0)                    \n",
      " Retrying in 1 seconds\n",
      "Step #203.00 (0ms ?*RT. ?UPS, TraCI: 0ms, vehicles TOT 25 ACT 0 BUF 0)                    \n",
      "Episode:1 Score:1.8529199101060883\n",
      " Retrying in 1 seconds\n",
      "Step #186.00 (0ms ?*RT. ?UPS, TraCI: 0ms, vehicles TOT 25 ACT 0 BUF 0)                    \n",
      " Retrying in 1 seconds\n",
      "Step #203.00 (1ms ~= 1000.00*RT, ~0.00UPS, TraCI: 0ms, vehicles TOT 25 ACT 0 BUF 0)       \n",
      " Retrying in 1 seconds\n",
      "Step #201.00 (0ms ?*RT. ?UPS, TraCI: 0ms, vehicles TOT 25 ACT 0 BUF 0)                    \n",
      " Retrying in 1 seconds\n",
      "Step #218.00 (0ms ?*RT. ?UPS, TraCI: 0ms, vehicles TOT 25 ACT 0 BUF 0)                    \n",
      " Retrying in 1 seconds\n",
      "Step #187.00 (0ms ?*RT. ?UPS, TraCI: 0ms, vehicles TOT 25 ACT 0 BUF 0)                    \n",
      "Episode:2 Score:2.5775858887351895\n"
     ]
    }
   ],
   "source": [
    "episodes = 2\n",
    "for episode in range(1, episodes+1):\n",
    "    state = env.reset()\n",
    "    done = False\n",
    "    score = 0 \n",
    "    while not done:\n",
    "        #env.render()\n",
    "        action = env.action_space.sample()\n",
    "        n_state, reward, done, info = env.step(action)\n",
    "        score+=reward\n",
    "    print('Episode:{} Score:{}'.format(episode, score))"
   ]
  },
  {
   "cell_type": "code",
   "execution_count": 11,
   "metadata": {},
   "outputs": [
    {
     "name": "stderr",
     "output_type": "stream",
     "text": [
      "2025-02-06 13:43:59.986225: W tensorflow/stream_executor/platform/default/dso_loader.cc:55] Could not load dynamic library 'libnvinfer.so.6'; dlerror: libnvinfer.so.6: cannot open shared object file: No such file or directory; LD_LIBRARY_PATH: /usr/local/cuda-11.8/lib64:\n",
      "2025-02-06 13:43:59.986266: W tensorflow/stream_executor/platform/default/dso_loader.cc:55] Could not load dynamic library 'libnvinfer_plugin.so.6'; dlerror: libnvinfer_plugin.so.6: cannot open shared object file: No such file or directory; LD_LIBRARY_PATH: /usr/local/cuda-11.8/lib64:\n",
      "2025-02-06 13:43:59.986269: W tensorflow/compiler/tf2tensorrt/utils/py_utils.cc:30] Cannot dlopen some TensorRT libraries. If you would like to use Nvidia GPU with TensorRT, please make sure the missing libraries mentioned above are installed properly.\n",
      "/home/manoli/Implicit-Sensing-Traffic/.venv/lib/python3.7/site-packages/tqdm/auto.py:21: TqdmWarning: IProgress not found. Please update jupyter and ipywidgets. See https://ipywidgets.readthedocs.io/en/stable/user_install.html\n",
      "  from .autonotebook import tqdm as notebook_tqdm\n",
      "Using TensorFlow backend.\n"
     ]
    }
   ],
   "source": [
    "from rl.agents import DQNAgent\n",
    "from rl.policy import BoltzmannQPolicy\n",
    "from rl.memory import SequentialMemory\n",
    "from rl.policy import EpsGreedyQPolicy\n",
    "from tensorflow.keras.models import Sequential\n",
    "from tensorflow.keras.layers import Dense, Flatten\n",
    "#from tensorflow.keras.optimizers import Adam\n",
    "import tensorflow as tf\n",
    "import pandas as pd\n",
    "import tensorflow.keras.callbacks \n",
    "from tqdm.keras import TqdmCallback"
   ]
  },
  {
   "cell_type": "code",
   "execution_count": 12,
   "metadata": {},
   "outputs": [],
   "source": [
    "def build_model(state,actions):\n",
    "    model = Sequential()\n",
    "    model.add(Dense(24,activation='relu', input_shape=states))\n",
    "    model.add(Dense(24,activation='relu'))\n",
    "    model.add(Dense(action,activation='linear'))\n",
    "    return model"
   ]
  },
  {
   "cell_type": "code",
   "execution_count": 13,
   "metadata": {},
   "outputs": [
    {
     "name": "stdout",
     "output_type": "stream",
     "text": [
      "WARNING:tensorflow:From /home/manoli/Implicit-Sensing-Traffic/.venv/lib/python3.7/site-packages/tensorflow_core/python/ops/resource_variable_ops.py:1635: calling BaseResourceVariable.__init__ (from tensorflow.python.ops.resource_variable_ops) with constraint is deprecated and will be removed in a future version.\n",
      "Instructions for updating:\n",
      "If using Keras pass *_constraint arguments to layers.\n"
     ]
    }
   ],
   "source": [
    "states = env.observation_space.shape\n",
    "action = env.action_space.n\n",
    "\n",
    "model = build_model(states,action)"
   ]
  },
  {
   "cell_type": "code",
   "execution_count": 14,
   "metadata": {},
   "outputs": [],
   "source": [
    "def build_agent(model,action):\n",
    "    policy = BoltzmannQPolicy()\n",
    "    memory = SequentialMemory(limit=50000,window_length=1)\n",
    "    dqn = DQNAgent(model=model,memory=memory,policy=policy,nb_actions=action, nb_steps_warmup=10, target_model_update=1e-2)\n",
    "    return dqn"
   ]
  },
  {
   "cell_type": "code",
   "execution_count": 15,
   "metadata": {},
   "outputs": [
    {
     "name": "stderr",
     "output_type": "stream",
     "text": [
      "2025-02-06 13:44:00.386009: I tensorflow/stream_executor/platform/default/dso_loader.cc:44] Successfully opened dynamic library libcuda.so.1\n",
      "2025-02-06 13:44:00.416027: I tensorflow/stream_executor/cuda/cuda_gpu_executor.cc:981] successful NUMA node read from SysFS had negative value (-1), but there must be at least one NUMA node, so returning NUMA node zero\n",
      "2025-02-06 13:44:00.420328: I tensorflow/core/common_runtime/gpu/gpu_device.cc:1555] Found device 0 with properties: \n",
      "pciBusID: 0000:01:00.0 name: NVIDIA GeForce RTX 3050 OEM computeCapability: 8.6\n",
      "coreClock: 1.755GHz coreCount: 18 deviceMemorySize: 7.66GiB deviceMemoryBandwidth: 208.65GiB/s\n",
      "2025-02-06 13:44:00.420372: W tensorflow/stream_executor/platform/default/dso_loader.cc:55] Could not load dynamic library 'libcudart.so.10.1'; dlerror: libcudart.so.10.1: cannot open shared object file: No such file or directory; LD_LIBRARY_PATH: /usr/local/cuda-11.8/lib64:\n",
      "2025-02-06 13:44:00.420393: W tensorflow/stream_executor/platform/default/dso_loader.cc:55] Could not load dynamic library 'libcublas.so.10'; dlerror: libcublas.so.10: cannot open shared object file: No such file or directory; LD_LIBRARY_PATH: /usr/local/cuda-11.8/lib64:\n",
      "2025-02-06 13:44:00.422203: I tensorflow/stream_executor/platform/default/dso_loader.cc:44] Successfully opened dynamic library libcufft.so.10\n",
      "2025-02-06 13:44:00.422372: I tensorflow/stream_executor/platform/default/dso_loader.cc:44] Successfully opened dynamic library libcurand.so.10\n",
      "2025-02-06 13:44:00.422403: W tensorflow/stream_executor/platform/default/dso_loader.cc:55] Could not load dynamic library 'libcusolver.so.10'; dlerror: libcusolver.so.10: cannot open shared object file: No such file or directory; LD_LIBRARY_PATH: /usr/local/cuda-11.8/lib64:\n",
      "2025-02-06 13:44:00.422422: W tensorflow/stream_executor/platform/default/dso_loader.cc:55] Could not load dynamic library 'libcusparse.so.10'; dlerror: libcusparse.so.10: cannot open shared object file: No such file or directory; LD_LIBRARY_PATH: /usr/local/cuda-11.8/lib64:\n",
      "2025-02-06 13:44:00.422446: W tensorflow/stream_executor/platform/default/dso_loader.cc:55] Could not load dynamic library 'libcudnn.so.7'; dlerror: libcudnn.so.7: cannot open shared object file: No such file or directory; LD_LIBRARY_PATH: /usr/local/cuda-11.8/lib64:\n",
      "2025-02-06 13:44:00.422448: W tensorflow/core/common_runtime/gpu/gpu_device.cc:1592] Cannot dlopen some GPU libraries. Please make sure the missing libraries mentioned above are installed properly if you would like to use GPU. Follow the guide at https://www.tensorflow.org/install/gpu for how to download and setup the required libraries for your platform.\n",
      "Skipping registering GPU devices...\n",
      "2025-02-06 13:44:00.422882: I tensorflow/core/platform/cpu_feature_guard.cc:142] Your CPU supports instructions that this TensorFlow binary was not compiled to use: AVX2 FMA\n",
      "2025-02-06 13:44:00.425877: I tensorflow/core/platform/profile_utils/cpu_utils.cc:94] CPU Frequency: 3417600000 Hz\n",
      "2025-02-06 13:44:00.426388: I tensorflow/compiler/xla/service/service.cc:168] XLA service 0x2e445d00 initialized for platform Host (this does not guarantee that XLA will be used). Devices:\n",
      "2025-02-06 13:44:00.426396: I tensorflow/compiler/xla/service/service.cc:176]   StreamExecutor device (0): Host, Default Version\n",
      "2025-02-06 13:44:00.507050: I tensorflow/stream_executor/cuda/cuda_gpu_executor.cc:981] successful NUMA node read from SysFS had negative value (-1), but there must be at least one NUMA node, so returning NUMA node zero\n",
      "2025-02-06 13:44:00.508380: I tensorflow/compiler/xla/service/service.cc:168] XLA service 0x2de4cc40 initialized for platform CUDA (this does not guarantee that XLA will be used). Devices:\n",
      "2025-02-06 13:44:00.508389: I tensorflow/compiler/xla/service/service.cc:176]   StreamExecutor device (0): NVIDIA GeForce RTX 3050 OEM, Compute Capability 8.6\n",
      "2025-02-06 13:44:00.508436: I tensorflow/core/common_runtime/gpu/gpu_device.cc:1096] Device interconnect StreamExecutor with strength 1 edge matrix:\n",
      "2025-02-06 13:44:00.508438: I tensorflow/core/common_runtime/gpu/gpu_device.cc:1102]      \n"
     ]
    },
    {
     "name": "stdout",
     "output_type": "stream",
     "text": [
      "Training for 10 steps ...\n",
      " Retrying in 1 seconds\n",
      "Step #201.00 (0ms ?*RT. ?UPS, TraCI: 0ms, vehicles TOT 25 ACT 0 BUF 0)                    \n",
      " Retrying in 1 seconds\n",
      "Step #203.00 (0ms ?*RT. ?UPS, TraCI: 0ms, vehicles TOT 25 ACT 0 BUF 0)                    \n",
      " Retrying in 1 seconds\n",
      "Step #203.00 (0ms ?*RT. ?UPS, TraCI: 0ms, vehicles TOT 25 ACT 0 BUF 0)                    \n",
      " Retrying in 1 seconds\n",
      "Step #205.00 (0ms ?*RT. ?UPS, TraCI: 0ms, vehicles TOT 25 ACT 0 BUF 0)                    \n",
      " Retrying in 1 seconds\n",
      "Step #187.00 (0ms ?*RT. ?UPS, TraCI: 0ms, vehicles TOT 25 ACT 0 BUF 0)                    \n",
      " 5/10: episode: 1, duration: 10.348s, episode steps:   5, steps per second:   0, episode reward:  0.465, mean reward:  0.093 [-0.104,  0.389], mean action: 6.400 [2.000, 11.000],  loss: --, mae: --, mean_q: --\n",
      " Retrying in 1 seconds\n",
      "Step #201.00 (0ms ?*RT. ?UPS, TraCI: 0ms, vehicles TOT 25 ACT 0 BUF 0)                    \n",
      " Retrying in 1 seconds\n",
      "Step #201.00 (0ms ?*RT. ?UPS, TraCI: 0ms, vehicles TOT 25 ACT 0 BUF 0)                    \n",
      " Retrying in 1 seconds\n",
      "Step #187.00 (0ms ?*RT. ?UPS, TraCI: 0ms, vehicles TOT 25 ACT 0 BUF 0)                    \n",
      " Retrying in 1 seconds\n",
      "Step #192.00 (0ms ?*RT. ?UPS, TraCI: 0ms, vehicles TOT 25 ACT 0 BUF 0)                    \n",
      " Retrying in 1 seconds\n",
      "Step #186.00 (0ms ?*RT. ?UPS, TraCI: 0ms, vehicles TOT 25 ACT 0 BUF 0)                    \n",
      " 10/10: episode: 2, duration: 10.133s, episode steps:   5, steps per second:   0, episode reward:  1.794, mean reward:  0.359 [ 0.112,  0.714], mean action: 6.400 [2.000, 10.000],  loss: --, mae: --, mean_q: --\n",
      "done, took 20.482 seconds\n",
      "{'episode_reward': [0.4652195869845124, 1.79428549045286], 'nb_episode_steps': [5, 5], 'nb_steps': [5, 10]}\n"
     ]
    }
   ],
   "source": [
    "dqn = build_agent(model,action)\n",
    "dqn.compile(tf.keras.optimizers.Adam(learning_rate=1e-3), metrics=['mae'])\n",
    "#logger = tf.keras.callbacks.TensorBoard(log_dir='logs',write_graph=True,histogram_freq=5)\n",
    "holder = dqn.fit(env,nb_steps=10,visualize=False,verbose=2)\n",
    "#model.save('my_model.keras')\n",
    "\n",
    "print(holder.history)\n",
    "df1 = pd.DataFrame(holder.history)\n",
    "df1.to_csv('test1.csv')"
   ]
  }
 ],
 "metadata": {
  "kernelspec": {
   "display_name": ".venv",
   "language": "python",
   "name": "python3"
  },
  "language_info": {
   "codemirror_mode": {
    "name": "ipython",
    "version": 3
   },
   "file_extension": ".py",
   "mimetype": "text/x-python",
   "name": "python",
   "nbconvert_exporter": "python",
   "pygments_lexer": "ipython3",
   "version": "3.7.17"
  }
 },
 "nbformat": 4,
 "nbformat_minor": 2
}
